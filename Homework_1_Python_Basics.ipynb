{
 "cells": [
  {
   "cell_type": "markdown",
   "metadata": {},
   "source": [
    "To complete the homework simply fill in your answers in this jupyter notebook!\n",
    "\n",
    "Remember that there are many ways in which markup cells can be used and you can add useful things such as references and images to better explain your answers.\n",
    "\n",
    "It is perfectly fine if you copy your answer from somewhere else in the internet as long as you understand the code you copied and cite the source. However, refrain from asking help for your colleagues (unless you're really struggling) as the ability to find information online is crucial for any tech role you might want to have in the future.\n",
    "\n",
    "<h1> Question 1: Multiple prints</h1>\n",
    "Create 3 different variables of different types and print their values using a single print statement."
   ]
  },
  {
   "cell_type": "code",
   "execution_count": 53,
   "metadata": {},
   "outputs": [],
   "source": [
    "Float_Variable = 2.3\n",
    "Boolean_Variable = True\n",
    "String_Variable = \"Random phrase!\""
   ]
  },
  {
   "cell_type": "markdown",
   "metadata": {},
   "source": [
    "<h1> Question 2: Data structures</h1>\n",
    "Create two variables containing each a nested list and a nested dictionary and demonstrate how to access specific items of it."
   ]
  },
  {
   "cell_type": "code",
   "execution_count": 3,
   "metadata": {},
   "outputs": [
    {
     "name": "stdout",
     "output_type": "stream",
     "text": [
      "Cat's\n",
      "['Dapple']\n",
      "{'Mobility': 'The individuals active range', 'Stability': 'The capacity to resist force', 'Strength': 'The capacity of the individul to produce force'}\n",
      "The individuals active range\n",
      "Sub Value 1\n"
     ]
    }
   ],
   "source": [
    "My_Favourite_Animals = [\"Dogs\", [\"Sausage dogs\", \"Yorkshire Terriers\"], \"Cat's\", [\"Maine Coon\", \"British Shorthair\"], \"Birds\", [\"Magpies\", \"Robins\"]]\n",
    "print(My_Favourite_Animals[2])\n",
    "#Realised that nesting a list in this way doesn't allow proper subsetting but each element in still in sequential order. This is essentially a shoddy dictionary.\n",
    "#Solution\n",
    "My_Favourite_Animals_Updated = [[\"Dog\", [\"Sausage Dog\", [\"Dapple\"]], \"Cat\",[\"Bengal\", [\"Marbled\"]]]]\n",
    "print(My_Favourite_Animals_Updated[0][1][1])\n",
    "#Had to work out how to call specific elements properly\n",
    "\n",
    "The_3_Tenets_Of_Weight_Training = {\"Mobility\": \"The individuals active range\", \"Stability\": \"The capacity to resist force\", \"Strength\": \"The capacity of the individul to produce force\"}\n",
    "print(The_3_Tenets_Of_Weight_Training)\n",
    "print(The_3_Tenets_Of_Weight_Training[\"Mobility\"])\n",
    "#Have to remember [] when calling dictionary elements.\n",
    "#Forgot to nest dictionary (see below)\n",
    "\n",
    "Nested_Dictionary_Example = {\n",
    "    \"Key 1\" : {\n",
    "    \"Sub key 1\": \"Sub Value 1\",\n",
    "      \"Sub Key 2\" : \"Sub Value 2\"\n",
    "      },\n",
    "        \"Key 2\" : {\n",
    "            \"Sub key 3\" : \"Sub Value 3\",\n",
    "              \"Sub key 4\" : \"Sub value 4\"\n",
    "        }\n",
    "}\n",
    "print(Nested_Dictionary_Example[\"Key 1\"][\"Sub key 1\"])\n",
    "\n",
    "#Had to work through a few erros code such as: key errors, unhashable type; keys errors, unterminated literal string and making sure the lines were separated. "
   ]
  },
  {
   "cell_type": "markdown",
   "metadata": {},
   "source": [
    "Now consider the following list,"
   ]
  },
  {
   "cell_type": "code",
   "execution_count": 41,
   "metadata": {},
   "outputs": [
    {
     "name": "stdout",
     "output_type": "stream",
     "text": [
      "1st question answer:\n",
      "1\n",
      "2\n",
      "3\n",
      "4\n",
      "2nd questions answer:\n",
      "2\n",
      "4\n",
      "6\n",
      "8\n",
      "3rd question answer:\n",
      "3\n",
      "6\n",
      "9\n",
      "4th questions answer:\n",
      "1 :This is the 9th number in the list \n",
      "2 :This is the 9th number in the list \n",
      "3 :This is the 9th number in the list \n",
      "4 :This is the 9th number in the list \n",
      "5 :This is the 9th number in the list \n",
      "6 :This is the 9th number in the list \n",
      "7 :This is the 9th number in the list \n",
      "8 :This is the 9th number in the list \n",
      "9 :This is the 9th number in the list \n"
     ]
    }
   ],
   "source": [
    "print(\"1st question answer:\")\n",
    "a_list = [1,2,3,4,5,6,7,8,9]\n",
    "for x in a_list:\n",
    "    if x < 5:\n",
    "        print(x)\n",
    "        \n",
    "print(\"2nd questions answer:\")\n",
    "for x in a_list:\n",
    "    if x%2 == 0 :\n",
    "        print(x)\n",
    "\n",
    "print(\"3rd question answer:\")\n",
    "for x in a_list:\n",
    "     if x% 3 == 0:\n",
    "        print(x)\n",
    "\n",
    "print(\"4th questions answer:\")\n",
    "Position = [\"1st\",\"2nd\", \"3rd\", \"4th\", \"5th\", \"6th\", \"7th\", \"8th\", \"9th\"]\n",
    "\n",
    "def Position_Func():\n",
    "    for y in Position:\n",
    "       print(y)\n",
    "\n",
    "for x in a_list:\n",
    "  print(f\"{x} :This is the {y} number in the list \")\n",
    "  \n"
   ]
  },
  {
   "cell_type": "markdown",
   "metadata": {},
   "source": [
    "1 - slice this list (by index) to contain only the numbers smaller than 5; <br>\n",
    "2 - make a loop to create a new list containing only the EVEN numbers of this list (bonus point if you use a list comprehension!!);<br>\n",
    "3 - make a loop to create a new list containing only the numbers that are multiples of 3;<br>\n",
    "Bonus - make a loop that will print every item on the list inside a sentence using a f-string."
   ]
  },
  {
   "cell_type": "markdown",
   "metadata": {},
   "source": [
    "<h1>Question 3: Creating functions</h1>\n",
    "\n",
    "Create a function that takes a list of numbers and convert them into strings. (bonus point if you use a list comprehension!!)"
   ]
  },
  {
   "cell_type": "code",
   "execution_count": 77,
   "metadata": {},
   "outputs": [
    {
     "name": "stdout",
     "output_type": "stream",
     "text": [
      "Ignore this answer:\n",
      "1\n",
      "This is the right answer:\n",
      "['1', '5.2', '67', '10097']\n"
     ]
    }
   ],
   "source": [
    "1 \n",
    "print(\"Ignore this answer:\")\n",
    "\n",
    "number_list = [1, 5.2, 67, 10097]\n",
    "\n",
    "def number_to_string(list):\n",
    "        for number in list:\n",
    "             str(number)\n",
    "             return number\n",
    "    \n",
    "string_list = number_to_string(number_list)\n",
    "print(string_list)\n",
    "\n",
    "#This didn't work\n",
    "    \n",
    "print(\"This is the right answer:\")\n",
    "\n",
    "string_list = [str(number) for number in number_list]\n",
    "print(string_list)"
   ]
  },
  {
   "cell_type": "code",
   "execution_count": null,
   "metadata": {},
   "outputs": [
    {
     "data": {
      "text/plain": [
       "'1'"
      ]
     },
     "execution_count": 9,
     "metadata": {},
     "output_type": "execute_result"
    }
   ],
   "source": [
    "variable = 1\n",
    "str(variable)\n",
    "#converts int to string"
   ]
  },
  {
   "cell_type": "code",
   "execution_count": 79,
   "metadata": {},
   "outputs": [],
   "source": [
    "yet_another_list = []\n",
    "#creates blank list"
   ]
  },
  {
   "cell_type": "code",
   "execution_count": null,
   "metadata": {},
   "outputs": [
    {
     "data": {
      "text/plain": [
       "[]"
      ]
     },
     "execution_count": 12,
     "metadata": {},
     "output_type": "execute_result"
    }
   ],
   "source": [
    "yet_another_list\n"
   ]
  },
  {
   "cell_type": "code",
   "execution_count": 78,
   "metadata": {},
   "outputs": [
    {
     "ename": "NameError",
     "evalue": "name 'yet_another_list' is not defined",
     "output_type": "error",
     "traceback": [
      "\u001b[1;31m---------------------------------------------------------------------------\u001b[0m",
      "\u001b[1;31mNameError\u001b[0m                                 Traceback (most recent call last)",
      "Cell \u001b[1;32mIn[78], line 1\u001b[0m\n\u001b[1;32m----> 1\u001b[0m yet_another_list\u001b[38;5;241m.\u001b[39mappend(\u001b[38;5;124m'\u001b[39m\u001b[38;5;124mcat\u001b[39m\u001b[38;5;124m'\u001b[39m)\n",
      "\u001b[1;31mNameError\u001b[0m: name 'yet_another_list' is not defined"
     ]
    }
   ],
   "source": [
    "yet_another_list.append('cat')\n",
    "#adds to bank list"
   ]
  },
  {
   "cell_type": "code",
   "execution_count": null,
   "metadata": {},
   "outputs": [
    {
     "data": {
      "text/plain": [
       "['cat']"
      ]
     },
     "execution_count": 14,
     "metadata": {},
     "output_type": "execute_result"
    }
   ],
   "source": [
    "yet_another_list"
   ]
  },
  {
   "cell_type": "code",
   "execution_count": null,
   "metadata": {},
   "outputs": [],
   "source": []
  },
  {
   "cell_type": "code",
   "execution_count": 82,
   "metadata": {},
   "outputs": [
    {
     "ename": "TypeError",
     "evalue": "'int' object is not iterable",
     "output_type": "error",
     "traceback": [
      "\u001b[1;31m---------------------------------------------------------------------------\u001b[0m",
      "\u001b[1;31mTypeError\u001b[0m                                 Traceback (most recent call last)",
      "Cell \u001b[1;32mIn[82], line 10\u001b[0m\n\u001b[0;32m      6\u001b[0m         another_list\u001b[38;5;241m.\u001b[39mappend(converted_item)\n\u001b[0;32m      8\u001b[0m     \u001b[38;5;28;01mreturn\u001b[39;00m(another_list)\n\u001b[1;32m---> 10\u001b[0m numberToString(\u001b[38;5;241m5\u001b[39m)\n",
      "Cell \u001b[1;32mIn[82], line 4\u001b[0m, in \u001b[0;36mnumberToString\u001b[1;34m(the_list)\u001b[0m\n\u001b[0;32m      1\u001b[0m \u001b[38;5;28;01mdef\u001b[39;00m \u001b[38;5;21mnumberToString\u001b[39m(the_list):\n\u001b[0;32m      2\u001b[0m     another_list \u001b[38;5;241m=\u001b[39m []\n\u001b[1;32m----> 4\u001b[0m     \u001b[38;5;28;01mfor\u001b[39;00m item \u001b[38;5;129;01min\u001b[39;00m the_list:    \n\u001b[0;32m      5\u001b[0m         converted_item \u001b[38;5;241m=\u001b[39m \u001b[38;5;28mstr\u001b[39m(item)\n\u001b[0;32m      6\u001b[0m         another_list\u001b[38;5;241m.\u001b[39mappend(converted_item)\n",
      "\u001b[1;31mTypeError\u001b[0m: 'int' object is not iterable"
     ]
    }
   ],
   "source": [
    "def numberToString(the_list):\n",
    "    another_list = []\n",
    "    \n",
    "    for item in the_list:    \n",
    "        converted_item = str(item)\n",
    "        another_list.append(converted_item)\n",
    "        \n",
    "    return(another_list)\n",
    "\n",
    "#converts each number in one list onto another separate string list."
   ]
  },
  {
   "cell_type": "code",
   "execution_count": null,
   "metadata": {},
   "outputs": [],
   "source": []
  },
  {
   "cell_type": "code",
   "execution_count": null,
   "metadata": {},
   "outputs": [
    {
     "data": {
      "text/plain": [
       "['1', '2', '3', '4', '5']"
      ]
     },
     "execution_count": 16,
     "metadata": {},
     "output_type": "execute_result"
    }
   ],
   "source": [
    "my_list = [1,2,3,4,5]\n",
    "\n",
    "numberToString(the_list=my_list)"
   ]
  },
  {
   "cell_type": "code",
   "execution_count": null,
   "metadata": {},
   "outputs": [
    {
     "data": {
      "text/plain": [
       "['1', '2', '3', '4', '5']"
      ]
     },
     "execution_count": 20,
     "metadata": {},
     "output_type": "execute_result"
    }
   ],
   "source": [
    "new_list = [str(number) for number in my_list]\n",
    "new_list\n",
    "#The way I did it"
   ]
  },
  {
   "cell_type": "code",
   "execution_count": null,
   "metadata": {},
   "outputs": [
    {
     "data": {
      "text/plain": [
       "['0', '1', '2', '3', '4', '5', '6', '7', '8', '9']"
      ]
     },
     "execution_count": 19,
     "metadata": {},
     "output_type": "execute_result"
    }
   ],
   "source": [
    "new_list = [str(number) for number in range(10)]\n",
    "new_list\n",
    "\n",
    "#Only run the loop 10 times"
   ]
  },
  {
   "cell_type": "markdown",
   "metadata": {},
   "source": [
    "Create a small calculator. The function should pick two numbers and perform one of four mathematical operations with it (sum/subtraction, division, multiplication, exponents). The desired operation should be an option (hint: what IF the user wants to do a sum?)\n",
    "\n",
    "Bonus: Make a function that can pick ANY number of numbers."
   ]
  },
  {
   "cell_type": "code",
   "execution_count": 112,
   "metadata": {},
   "outputs": [
    {
     "name": "stdout",
     "output_type": "stream",
     "text": [
      "144\n"
     ]
    }
   ],
   "source": [
    "import random\n",
    "\n",
    "random_number = random.randint(1, 100)\n",
    "number_1 = random_number\n",
    "number_2 = random_number\n",
    "operators = [\"+\", \"/\", \"*\", \"**\", \"-\"]\n",
    "\n",
    "#Not using below just keeping in for reminder of random.choice\n",
    "operator = random.choice(operators)\n",
    "\n",
    "def calculator():\n",
    "    user_operator = input(\"What operator would you like to use?\")\n",
    "    if user_operator == \"+\":\n",
    "         print(number_1 + number_2)\n",
    "    elif user_operator == \"/\":\n",
    "         return number_1 / number_2\n",
    "    elif user_operator == \"*\":\n",
    "         return number_1 * number_2\n",
    "    elif user_operator == \"**\":\n",
    "         return number_1 ** number_2\n",
    "    elif user_operator == \"-\":\n",
    "         return number_1 - number_2\n",
    "    else:\n",
    "         return \"Please input valid operation\"\n",
    "    \n",
    "calculator()"
   ]
  },
  {
   "cell_type": "markdown",
   "metadata": {},
   "source": [
    "Create a function that check if a number is within a list of numbers."
   ]
  },
  {
   "cell_type": "code",
   "execution_count": 88,
   "metadata": {},
   "outputs": [
    {
     "name": "stdout",
     "output_type": "stream",
     "text": [
      "Your number is indeed in the list\n"
     ]
    }
   ],
   "source": [
    "list_1 = [7, 5, 9, 5]\n",
    "\n",
    "def check_list(number, list):\n",
    "    if number in list:\n",
    "        Result = True\n",
    "    if Result == True:\n",
    "        print(\"Your number is indeed in the list\")\n",
    "    else:\n",
    "        (\"Your number is not in the list.\")\n",
    "    \n",
    "\n",
    "check_list(5, list_1)"
   ]
  },
  {
   "cell_type": "markdown",
   "metadata": {},
   "source": [
    "Bonus: similar to the item above, create a function that checks if a string contains a given substring, e.g. 'I have a cat' contains the string sequence 'cat' or 'ave'."
   ]
  },
  {
   "cell_type": "code",
   "execution_count": 113,
   "metadata": {},
   "outputs": [
    {
     "name": "stdout",
     "output_type": "stream",
     "text": [
      "True\n",
      "True\n"
     ]
    }
   ],
   "source": [
    "Cat_String = \"I have cat\"\n",
    "\n",
    "print('cat' in Cat_String)\n",
    "print('ave' in Cat_String)"
   ]
  },
  {
   "cell_type": "markdown",
   "metadata": {},
   "source": [
    "Bonus: create a function that given the initial speed of a projectile that is thrown at 90 degrees will calculate how much time the projectile will take to get back to the initial altitude. (yes you're expected to disregard air resistence)"
   ]
  },
  {
   "cell_type": "code",
   "execution_count": 116,
   "metadata": {},
   "outputs": [
    {
     "data": {
      "text/plain": [
       "0.6122448979591836"
      ]
     },
     "execution_count": 116,
     "metadata": {},
     "output_type": "execute_result"
    }
   ],
   "source": [
    "\n",
    "def time_to_return(initial_speed):\n",
    "    # Initial velocity in the vertical direction is equal to initial speed\n",
    "    initial_velocity = initial_speed\n",
    "    \n",
    "    # Acceleration due to gravity (m/s^2)\n",
    "    acceleration_due_to_gravity = 9.8\n",
    "    \n",
    "    # Time taken to reach maximum height (ascending)\n",
    "    time_to_max_height = initial_velocity / acceleration_due_to_gravity\n",
    "    \n",
    "    # Total time in the air (ascending + descending)\n",
    "    total_time = 2 * time_to_max_height\n",
    "    \n",
    "    return total_time\n",
    "\n",
    "time_to_return(3)"
   ]
  },
  {
   "cell_type": "markdown",
   "metadata": {},
   "source": [
    "<h1>solve these questions...or ELSE</h1>\n",
    "\n",
    "Why the nested if statement below doesn't only produce the first print? Can you modify it so it produces the desired output?"
   ]
  },
  {
   "cell_type": "code",
   "execution_count": 118,
   "metadata": {},
   "outputs": [
    {
     "name": "stdout",
     "output_type": "stream",
     "text": [
      "Yeeeey!\n",
      "Yey.\n",
      "Yey!\n"
     ]
    }
   ],
   "source": [
    "food = 'Pizza'\n",
    "drinks = 'Beer'\n",
    "\n",
    "if food == 'Pizza' and drinks == 'Beer':\n",
    "    print('Yeeeey!')\n",
    "if food == 'Pizza' and drinks == 'Beer':\n",
    "    print('Yey.')\n",
    "if food == 'Pizza' and drinks == 'Beer':\n",
    "    print('Yey!')\n",
    "else:\n",
    "    print('.....???')\n",
    "\n",
    "#I am asssuming 3 Yey's is the desired output."
   ]
  },
  {
   "cell_type": "markdown",
   "metadata": {},
   "source": [
    "<h1> Debugging </h1>\n",
    "None of the blocks of code below work. Your task is to make them work (if possible!) and add markup cells (or comments) explaining why they don't work."
   ]
  },
  {
   "cell_type": "markdown",
   "metadata": {},
   "source": [
    "print(\"Is this working?\")"
   ]
  },
  {
   "cell_type": "code",
   "execution_count": null,
   "metadata": {},
   "outputs": [],
   "source": [
    "print(\"does this work?\")"
   ]
  },
  {
   "cell_type": "code",
   "execution_count": 120,
   "metadata": {},
   "outputs": [
    {
     "name": "stdout",
     "output_type": "stream",
     "text": [
      "about now\n"
     ]
    }
   ],
   "source": [
    "print(\"about now\")"
   ]
  },
  {
   "cell_type": "code",
   "execution_count": 134,
   "metadata": {},
   "outputs": [
    {
     "name": "stdout",
     "output_type": "stream",
     "text": [
      "Today on a scale from 1 to 10 I am feeling...10\n",
      "Today on a scale from 1 to 10 I am feeling...10\n"
     ]
    }
   ],
   "source": [
    "text_variable = \"Today on a scale from 1 to 10 I am feeling...\"\n",
    "my_mood = 10\n",
    "print(text_variable+(str(my_mood)))\n",
    "\n",
    "text_variable = \"Today on a scale from 1 to 10 I am feeling...\"\n",
    "my_mood = 10\n",
    "print(f\"{text_variable}{my_mood}\")\n"
   ]
  },
  {
   "cell_type": "code",
   "execution_count": 138,
   "metadata": {},
   "outputs": [
    {
     "name": "stdout",
     "output_type": "stream",
     "text": [
      "Today on a scale from 1 to 10 I am feeling...10\n"
     ]
    }
   ],
   "source": [
    "text_variable = \"Today on a scale from 1 to 10 I am feeling...\"\n",
    "my_mood = 10\n",
    "print(text_variable+(str(my_mood)) )#Yep there are ways to make it work with a + operator too!"
   ]
  },
  {
   "cell_type": "code",
   "execution_count": 139,
   "metadata": {},
   "outputs": [],
   "source": [
    "a_dictionary = {'item1': 'Value 1',\n",
    "                'item2': 'value 2',}"
   ]
  },
  {
   "cell_type": "code",
   "execution_count": 140,
   "metadata": {},
   "outputs": [
    {
     "data": {
      "text/plain": [
       "True"
      ]
     },
     "execution_count": 140,
     "metadata": {},
     "output_type": "execute_result"
    }
   ],
   "source": [
    "1 == 1 # Should return True"
   ]
  },
  {
   "cell_type": "code",
   "execution_count": 141,
   "metadata": {},
   "outputs": [
    {
     "name": "stdout",
     "output_type": "stream",
     "text": [
      "Clap your hands\n"
     ]
    }
   ],
   "source": [
    "# Why isn't the outcome 'Clap your hands?'\n",
    "mood = 'Happy'\n",
    "if mood == 'Happy':\n",
    "    print('Clap your hands')\n",
    "else:\n",
    "    print('...do I look like I have this one figured out?')"
   ]
  },
  {
   "cell_type": "code",
   "execution_count": 143,
   "metadata": {},
   "outputs": [
    {
     "name": "stdout",
     "output_type": "stream",
     "text": [
      "a word another word\n"
     ]
    }
   ],
   "source": [
    "def printerfunction(x,y):\n",
    "  print(x,y)\n",
    "\n",
    "printerfunction(\"a word\", \"another word\")"
   ]
  },
  {
   "cell_type": "code",
   "execution_count": 144,
   "metadata": {},
   "outputs": [
    {
     "name": "stdout",
     "output_type": "stream",
     "text": [
      "Clap your hands\n"
     ]
    }
   ],
   "source": [
    "# bonus/annoying round, why is this crashing?\n",
    "mood = 'happy'\n",
    "if mood == 'happy':\n",
    "   print('Clap your hands')\n",
    "else:\n",
    "    print('...do I look like I have this one figured out?')"
   ]
  }
 ],
 "metadata": {
  "kernelspec": {
   "display_name": "Python 3 (ipykernel)",
   "language": "python",
   "name": "python3"
  },
  "language_info": {
   "codemirror_mode": {
    "name": "ipython",
    "version": 3
   },
   "file_extension": ".py",
   "mimetype": "text/x-python",
   "name": "python",
   "nbconvert_exporter": "python",
   "pygments_lexer": "ipython3",
   "version": "3.11.5"
  }
 },
 "nbformat": 4,
 "nbformat_minor": 4
}
